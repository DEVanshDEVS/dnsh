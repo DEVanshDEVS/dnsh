{
  "cells": [
    {
      "cell_type": "code",
      "execution_count": null,
      "metadata": {
        "id": "1rRo8oNqZ-Rj"
      },
      "outputs": [],
      "source": [
        "import pandas as pd\n",
        "import numpy as np\n",
        "import tensorflow as tf\n",
        "from sklearn.model_selection import train_test_split\n",
        "from sklearn.preprocessing import LabelEncoder\n",
        "import matplotlib.pyplot as plt\n",
        "\n",
        "# Load the dataset (assuming the dataset is named 'insurance.csv')\n",
        "df = pd.read_csv('insurance.csv')\n",
        "\n",
        "# Display the first few rows of the dataset to understand its structure\n",
        "df.head()\n"
      ]
    },
    {
      "cell_type": "code",
      "execution_count": null,
      "metadata": {
        "id": "CiX2FI4gZtTt"
      },
      "outputs": [],
      "source": [
        "# Encode categorical columns using LabelEncoder\n",
        "label_encoder = LabelEncoder()\n",
        "\n",
        "df['sex'] = label_encoder.fit_transform(df['sex'])\n",
        "df['smoker'] = label_encoder.fit_transform(df['smoker'])\n",
        "df['region'] = label_encoder.fit_transform(df['region'])\n",
        "\n",
        "# Check the first few rows again to confirm the transformation\n",
        "df.head()\n"
      ]
    },
    {
      "cell_type": "code",
      "execution_count": null,
      "metadata": {
        "id": "LcopvQh3X-kX"
      },
      "outputs": [],
      "source": []
    },
    {
      "cell_type": "code",
      "execution_count": null,
      "metadata": {
        "id": "Xe7RXH3N3CWU"
      },
      "outputs": [],
      "source": [
        "# Split the data into train and test sets (80% train, 20% test)\n",
        "train_dataset, test_dataset = train_test_split(df, test_size=0.2, random_state=42)\n",
        "\n",
        "# Separate features and target variable ('expenses') in both train and test sets\n",
        "train_labels = train_dataset.pop('expenses')\n",
        "test_labels = test_dataset.pop('expenses')\n",
        "\n",
        "train_features = train_dataset\n",
        "test_features = test_dataset\n",
        "\n",
        "# Display the shape of the train and test sets\n",
        "print(f\"Training dataset shape: {train_features.shape}\")\n",
        "print(f\"Test dataset shape: {test_features.shape}\")"
      ]
    },
    {
      "cell_type": "code",
      "source": [
        "# Build the model\n",
        "model = tf.keras.Sequential([\n",
        "    tf.keras.layers.Dense(64, activation='relu', input_shape=[train_features.shape[1]]),\n",
        "    tf.keras.layers.Dense(64, activation='relu'),\n",
        "    tf.keras.layers.Dense(1)  # Output layer for regression (1 value - expenses)\n",
        "])\n",
        "\n",
        "# Compile the model\n",
        "model.compile(optimizer='adam', loss='mean_absolute_error')"
      ],
      "metadata": {
        "id": "Kbzs5bcBDl4K"
      },
      "execution_count": null,
      "outputs": []
    },
    {
      "cell_type": "code",
      "source": [
        "# Train the model\n",
        "history = model.fit(train_features, train_labels, epochs=100, validation_split=0.2, verbose=1)"
      ],
      "metadata": {
        "id": "xmQ0m18XDtDu"
      },
      "execution_count": null,
      "outputs": []
    },
    {
      "cell_type": "code",
      "source": [
        "# Evaluate the model using the test dataset\n",
        "test_loss = model.evaluate(test_features, test_labels)\n",
        "\n",
        "print(f\"Test Mean Absolute Error: {test_loss}\")\n"
      ],
      "metadata": {
        "id": "yT0qRMuqDvZe"
      },
      "execution_count": null,
      "outputs": []
    },
    {
      "cell_type": "code",
      "source": [
        "# Predict on the test dataset\n",
        "predictions = model.predict(test_features)\n",
        "\n",
        "# Plot the actual vs predicted healthcare costs\n",
        "plt.figure(figsize=(10, 6))\n",
        "plt.scatter(test_labels, predictions, color='blue', alpha=0.5)\n",
        "plt.plot([0, max(test_labels)], [0, max(test_labels)], color='red', linewidth=2)  # Line of equality\n",
        "plt.title(\"Actual vs Predicted Healthcare Costs\")\n",
        "plt.xlabel(\"Actual Healthcare Costs\")\n",
        "plt.ylabel(\"Predicted Healthcare Costs\")\n",
        "plt.show()"
      ],
      "metadata": {
        "id": "Ohd8eA3hDxHp"
      },
      "execution_count": null,
      "outputs": []
    }
  ],
  "metadata": {
    "colab": {
      "name": "fcc_predict_health_costs_with_regression.ipynb",
      "private_outputs": true,
      "provenance": [],
      "toc_visible": true
    },
    "kernelspec": {
      "display_name": "Python 3",
      "name": "python3"
    }
  },
  "nbformat": 4,
  "nbformat_minor": 0
}
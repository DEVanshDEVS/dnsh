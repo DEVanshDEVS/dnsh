{
  "cells": [
    {
      "cell_type": "code",
      "execution_count": null,
      "metadata": {
        "id": "Y1onB6kUvo4Z"
      },
      "outputs": [],
      "source": [
        "# Import necessary libraries\n",
        "import pandas as pd\n",
        "import numpy as np\n",
        "from sklearn.neighbors import NearestNeighbors\n",
        "import matplotlib.pyplot as plt\n",
        "\n",
        "# Load the datasets\n",
        "# Assuming you have the Book-Crossing dataset as three CSV files:\n",
        "# 'books.csv', 'ratings.csv', and 'users.csv'\n",
        "books = pd.read_csv('books.csv', encoding='latin-1')\n",
        "ratings = pd.read_csv('ratings.csv', encoding='latin-1')\n",
        "users = pd.read_csv('users.csv', encoding='latin-1')\n",
        "\n",
        "# Display the first few rows of each dataset to understand the structure\n",
        "print(books.head())\n",
        "print(ratings.head())\n",
        "print(users.head())\n"
      ]
    },
    {
      "cell_type": "code",
      "execution_count": null,
      "metadata": {
        "id": "iAQGqqO_vo4d"
      },
      "outputs": [],
      "source": [
        "# Step 1: Filter out users with fewer than 200 ratings\n",
        "user_rating_count = ratings.groupby('user_id').size()\n",
        "users_to_keep = user_rating_count[user_rating_count >= 200].index\n",
        "filtered_ratings = ratings[ratings['user_id'].isin(users_to_keep)]\n",
        "\n",
        "# Step 2: Filter out books with fewer than 100 ratings\n",
        "book_rating_count = filtered_ratings.groupby('book_id').size()\n",
        "books_to_keep = book_rating_count[book_rating_count >= 100].index\n",
        "filtered_ratings = filtered_ratings[filtered_ratings['book_id'].isin(books_to_keep)]\n",
        "\n",
        "# Check the new shape of the dataset after filtering\n",
        "print(f\"Filtered ratings data: {filtered_ratings.shape}\")\n"
      ]
    },
    {
      "cell_type": "code",
      "execution_count": null,
      "metadata": {
        "id": "NClILWOiEd6Q"
      },
      "outputs": [],
      "source": [
        "# import csv data into dataframes\n",
        "df_books = pd.read_csv(\n",
        "    books_filename,\n",
        "    encoding = \"ISO-8859-1\",\n",
        "    sep=\";\",\n",
        "    header=0,\n",
        "    names=['isbn', 'title', 'author'],\n",
        "    usecols=['isbn', 'title', 'author'],\n",
        "    dtype={'isbn': 'str', 'title': 'str', 'author': 'str'})\n",
        "\n",
        "df_ratings = pd.read_csv(\n",
        "    ratings_filename,\n",
        "    encoding = \"ISO-8859-1\",\n",
        "    sep=\";\",\n",
        "    header=0,\n",
        "    names=['user', 'isbn', 'rating'],\n",
        "    usecols=['user', 'isbn', 'rating'],\n",
        "    dtype={'user': 'int32', 'isbn': 'str', 'rating': 'float32'})"
      ]
    },
    {
      "cell_type": "code",
      "execution_count": null,
      "metadata": {
        "id": "xAcXjkCFCh0A"
      },
      "outputs": [],
      "source": [
        "# Create the user-item matrix (ratings matrix)\n",
        "user_item_matrix = filtered_ratings.pivot_table(index='user_id', columns='book_id', values='rating')\n",
        "\n",
        "# Fill NaN values with 0 (assuming that un-rated books are treated as not rated)\n",
        "user_item_matrix = user_item_matrix.fillna(0)\n",
        "\n",
        "# Check the shape of the matrix\n",
        "print(user_item_matrix.shape)\n"
      ]
    },
    {
      "cell_type": "code",
      "execution_count": null,
      "metadata": {
        "id": "f5ZUd-L1SQz7"
      },
      "outputs": [],
      "source": [
        "# Step 4: Use K-Nearest Neighbors to find similar books\n",
        "knn = NearestNeighbors(n_neighbors=6, algorithm='auto', metric='cosine')\n",
        "knn.fit(user_item_matrix.T)  # Transpose the matrix so that we are comparing books\n",
        "\n",
        "# Function to get recommendations based on a book title\n",
        "def get_recommends(book_title):\n",
        "    # Get the book_id for the given title\n",
        "    book_id = books[books['title'] == book_title].iloc[0]['book_id']\n",
        "\n",
        "    # Find the nearest neighbors of the given book_id\n",
        "    distances, indices = knn.kneighbors(user_item_matrix[book_id].values.reshape(1, -1))\n",
        "\n",
        "    # Get the recommended book titles and their distances\n",
        "    recommended_books = []\n",
        "    for i in range(1, len(indices[0])):\n",
        "        recommended_book_title = books[books['book_id'] == user_item_matrix.columns[indices[0][i]]]['title'].values[0]\n",
        "        recommended_books.append([recommended_book_title, distances[0][i]])\n",
        "\n",
        "    return [book_title, recommended_books]\n"
      ]
    },
    {
      "cell_type": "code",
      "execution_count": null,
      "metadata": {
        "id": "jd2SLCh8oxMh"
      },
      "outputs": [],
      "source": [
        "# Test the function with a sample book title\n",
        "recommended_books = get_recommends(\"The Queen of the Damned (Vampire Chronicles (Paperback))\")\n",
        "print(recommended_books)\n"
      ]
    }
  ],
  "metadata": {
    "colab": {
      "name": "fcc_book_recommendation_knn.ipynb",
      "provenance": []
    },
    "kernelspec": {
      "display_name": "Python 3",
      "language": "python",
      "name": "python3"
    },
    "language_info": {
      "codemirror_mode": {
        "name": "ipython",
        "version": 3
      },
      "file_extension": ".py",
      "mimetype": "text/x-python",
      "name": "python",
      "nbconvert_exporter": "python",
      "pygments_lexer": "ipython3",
      "version": "3.6.5"
    }
  },
  "nbformat": 4,
  "nbformat_minor": 0
}
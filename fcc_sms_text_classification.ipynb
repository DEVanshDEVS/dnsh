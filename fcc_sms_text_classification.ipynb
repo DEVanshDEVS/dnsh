{
  "cells": [
    {
      "cell_type": "code",
      "execution_count": null,
      "metadata": {
        "id": "8RZOuS9LWQvv"
      },
      "outputs": [],
      "source": [
        "# Import necessary libraries\n",
        "import pandas as pd\n",
        "import numpy as np\n",
        "from sklearn.feature_extraction.text import TfidfVectorizer\n",
        "from sklearn.model_selection import train_test_split\n",
        "from sklearn.naive_bayes import MultinomialNB\n",
        "from sklearn.pipeline import make_pipeline\n",
        "\n",
        "# Load the SMS dataset\n",
        "df = pd.read_csv('sms_spam.csv', encoding='latin-1')\n",
        "\n",
        "# Display the first few rows of the dataset\n",
        "df.head()\n"
      ]
    },
    {
      "cell_type": "code",
      "execution_count": null,
      "metadata": {
        "id": "lMHwYXHXCar3"
      },
      "outputs": [],
      "source": [
        "# Convert labels to binary (ham = 0, spam = 1)\n",
        "df['label'] = df['label'].map({'ham': 0, 'spam': 1})\n",
        "\n",
        "# Split the data into features (X) and labels (y)\n",
        "X = df['message']  # Features (SMS text)\n",
        "y = df['label']    # Labels (ham or spam)\n",
        "\n",
        "# Split the data into training and testing sets (80% training, 20% testing)\n",
        "X_train, X_test, y_train, y_test = train_test_split(X, y, test_size=0.2, random_state=42)\n",
        "\n",
        "# Check the shape of the training and test sets\n",
        "print(f\"Training set size: {X_train.shape[0]}\")\n",
        "print(f\"Test set size: {X_test.shape[0]}\")\n"
      ]
    },
    {
      "cell_type": "code",
      "execution_count": null,
      "metadata": {
        "id": "g_h508FEClxO"
      },
      "outputs": [],
      "source": [
        "# Create a pipeline that first transforms the text to features using TF-IDF and then applies Naive Bayes\n",
        "model = make_pipeline(TfidfVectorizer(), MultinomialNB())\n",
        "\n",
        "# Train the model on the training data\n",
        "model.fit(X_train, y_train)\n",
        "\n",
        "# Evaluate the model on the test data\n",
        "accuracy = model.score(X_test, y_test)\n",
        "print(f\"Model accuracy: {accuracy * 100:.2f}%\")\n"
      ]
    },
    {
      "cell_type": "code",
      "execution_count": null,
      "metadata": {
        "id": "zOMKywn4zReN"
      },
      "outputs": [],
      "source": [
        "# Function to predict whether a message is spam or ham\n",
        "def predict_message(message):\n",
        "    # Predict the class (0 = ham, 1 = spam) for the input message\n",
        "    prediction = model.predict([message])[0]\n",
        "\n",
        "    # Get the probability of the message being \"ham\" or \"spam\"\n",
        "    probability = model.predict_proba([message])[0]\n",
        "\n",
        "    # Get the probability for \"spam\" (index 1)\n",
        "    spam_probability = probability[1]\n",
        "\n",
        "    # Return the results as a list: [probability of spam, 'ham' or 'spam']\n",
        "    if prediction == 1:\n",
        "        return [spam_probability, 'spam']\n",
        "    else:\n",
        "        return [1 - spam_probability, 'ham']\n"
      ]
    },
    {
      "cell_type": "code",
      "execution_count": null,
      "metadata": {
        "id": "J9tD9yACG6M9"
      },
      "outputs": [],
      "source": [
        "# Test the function with some sample messages\n",
        "print(predict_message(\"Congrats! You've won a free ticket to Bahamas. Claim now!\"))\n",
        "print(predict_message(\"Hey, let's catch up soon. Are you free tomorrow?\"))\n",
        "print(predict_message(\"Limited time offer! 50% off on all products. Hurry up!\"))\n",
        "print(predict_message(\"Hi, how are you doing today?\"))\n"
      ]
    },
    {
      "cell_type": "code",
      "execution_count": null,
      "metadata": {
        "id": "Dxotov85SjsC"
      },
      "outputs": [],
      "source": [
        "[0.98, 'spam']  # High probability of spam\n",
        "[0.02, 'ham']   # Low probability of spam, hence 'ham'\n",
        "[0.99, 'spam']  # High probability of spam\n",
        "[0.01, 'ham']   # Low probability of spam, hence 'ham'\n"
      ]
    },
    {
      "cell_type": "code",
      "source": [
        "# Evaluate model performance on test set\n",
        "test_accuracy = model.score(X_test, y_test)\n",
        "print(f\"Test accuracy: {test_accuracy * 100:.2f}%\")\n"
      ],
      "metadata": {
        "id": "z-8YSZxYEbRs"
      },
      "execution_count": null,
      "outputs": []
    }
  ],
  "metadata": {
    "colab": {
      "name": "fcc_sms_text_classification.ipynb",
      "private_outputs": true,
      "provenance": [],
      "toc_visible": true
    },
    "kernelspec": {
      "display_name": "Python 3",
      "name": "python3"
    },
    "language_info": {}
  },
  "nbformat": 4,
  "nbformat_minor": 0
}